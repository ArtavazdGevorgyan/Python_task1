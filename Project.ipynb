{
 "cells": [
  {
   "cell_type": "code",
   "execution_count": 35,
   "id": "a8ca7b9e",
   "metadata": {
    "scrolled": false
   },
   "outputs": [
    {
     "name": "stdout",
     "output_type": "stream",
     "text": [
      "Enter Hours: 35\n",
      "Enter Rate: 2.75\n",
      "Pay:96.25\n"
     ]
    }
   ],
   "source": [
    "#_____1\n",
    "print(\"Pay:\" + str(float(input(\"Enter Hours: \"))*float(input(\"Enter Rate: \"))))"
   ]
  },
  {
   "cell_type": "code",
   "execution_count": 69,
   "id": "657402c1",
   "metadata": {},
   "outputs": [
    {
     "name": "stdout",
     "output_type": "stream",
     "text": [
      "Enter a number: 4\n",
      "Enter a number: 5\n",
      "Enter a number: 7\n",
      "Enter a number: done\n",
      "16 3 5.333333333333333\n"
     ]
    }
   ],
   "source": [
    "#_____2\n",
    "x=input(\"Enter a number: \")\n",
    "s=0\n",
    "c=0\n",
    "while(x!=\"done\"):\n",
    "    try:\n",
    "        x=int(x)\n",
    "        s=s+x\n",
    "        c=c+1\n",
    "    except:\n",
    "        print(\"Invalid input\")\n",
    "    x=input(\"Enter a number: \")\n",
    "print(s,c,s/c)"
   ]
  },
  {
   "cell_type": "code",
   "execution_count": 70,
   "id": "78015231",
   "metadata": {},
   "outputs": [
    {
     "name": "stdout",
     "output_type": "stream",
     "text": [
      "Enter a letter: y\n",
      "y  is vowel and consonant\n"
     ]
    }
   ],
   "source": [
    "#_____3\n",
    "lst=['a','e','i','u','o']\n",
    "inp=input(\"Enter a letter: \")\n",
    "if(inp in lst):\n",
    "    print(inp,\"is vowel\")\n",
    "elif(inp=='y'):\n",
    "    print(inp,\" is vowel and consonant\")\n",
    "else:\n",
    "    print(inp,\" is consonant\")"
   ]
  },
  {
   "cell_type": "code",
   "execution_count": 51,
   "id": "27a09758",
   "metadata": {},
   "outputs": [
    {
     "name": "stdout",
     "output_type": "stream",
     "text": [
      "Enetr numeber of cordinat: 7\n",
      "Enetr letter of cordinat: g\n",
      "Black\n"
     ]
    }
   ],
   "source": [
    "#_____4\n",
    "a=int(input(\"Enetr numeber of cordinat: \"))\n",
    "b=input(\"Enetr letter of cordinat: \")\n",
    "lst=[('a',1),('b',2),('c',3),('d',4),('e',5),('f',6),('g',7),('h',8),]\n",
    "for x in lst:\n",
    "    if(x[0]==b):\n",
    "        b=x[1]\n",
    "if((a+b)%2==0):\n",
    "    print(\"Black\")\n",
    "else:\n",
    "    print(\"White\")"
   ]
  },
  {
   "cell_type": "code",
   "execution_count": 34,
   "id": "78dd4067",
   "metadata": {},
   "outputs": [
    {
     "name": "stdout",
     "output_type": "stream",
     "text": [
      "Enter temperature in farenheit: 22.3\n",
      "Temperature in celcius:  -5.388888888888888\n"
     ]
    }
   ],
   "source": [
    "#_____5\n",
    "print(\"Temperature in celcius: \",(float(input(\"Enter temperature in farenheit: \"))-32)/1.8)"
   ]
  }
 ],
 "metadata": {
  "kernelspec": {
   "display_name": "Python 3 (ipykernel)",
   "language": "python",
   "name": "python3"
  },
  "language_info": {
   "codemirror_mode": {
    "name": "ipython",
    "version": 3
   },
   "file_extension": ".py",
   "mimetype": "text/x-python",
   "name": "python",
   "nbconvert_exporter": "python",
   "pygments_lexer": "ipython3",
   "version": "3.9.7"
  }
 },
 "nbformat": 4,
 "nbformat_minor": 5
}
